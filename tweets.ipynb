{
 "cells": [
  {
   "cell_type": "code",
   "execution_count": 138,
   "metadata": {},
   "outputs": [
    {
     "name": "stdout",
     "output_type": "stream",
     "text": [
      "EndpointRateLimit(limit=15, remaining=15, reset=1525812326)\n"
     ]
    }
   ],
   "source": [
    "# https://jakevdp.github.io/blog/2017/12/05/installing-python-packages-from-jupyter/index.html\n",
    "# sudo pip3 install jupyter datascience matplotlib pandas\n",
    "# https://github.com/bear/python-twitter\n",
    "# sudo pip3 install python-twitter\n",
    "\n",
    "import twitter\n",
    "# tweepy has potential as an alternative to python-twitter\n",
    "\n",
    "api = twitter.Api(consumer_key='',\n",
    "                  consumer_secret='',\n",
    "                  access_token_key='',\n",
    "                  access_token_secret='',\n",
    "                  tweet_mode= 'extended',\n",
    "                  sleep_on_rate_limit=True)\n",
    "print(api.CheckRateLimit('https://api.twitter.com/1.1/help/privacy.json'))\n",
    "# print(api.VerifyCredentials())\n",
    "\n",
    "# statuses = api.GetUserTimeline(screen_name=user)"
   ]
  },
  {
   "cell_type": "code",
   "execution_count": 136,
   "metadata": {},
   "outputs": [
    {
     "name": "stdout",
     "output_type": "stream",
     "text": [
      "Members(us-cabinet): 40\n"
     ]
    }
   ],
   "source": [
    "# wrapper around numpy and pandas\n",
    "# https://github.com/data-8/datascience\n",
    "from datascience import *\n",
    "import json\n",
    "\n",
    "## Twitter gov has several US lists for congress and appointees.\n",
    "# https://twitter.com/TwitterGov/lists/us-governors/members\n",
    "twittergov = [\n",
    "    \"us-governors\",\n",
    "    \"us-senate\",\n",
    "    \"us-house\",\n",
    "    \"us-secretaries-of-state\",\n",
    "    \"us-cabinet\"\n",
    "]\n",
    "\n",
    "# List members and write them to CSV and JSON\n",
    "for user_group in twittergov:\n",
    "    list_members = api.GetListMembers(owner_screen_name=\"TwitterGov\",slug=user_group)\n",
    "    Table().with_columns([\n",
    "        \"ID\", [u.id for u in list_members],\n",
    "        \"Screen Name\", [u.screen_name for u in list_members]\n",
    "    ]).to_csv(\"twittergov/\" + user_group + \".csv\")\n",
    "    with open(\"twittergov/\" + user_group + \".json\", \"w+\") as f:\n",
    "        for member in list_members:\n",
    "            json.dump(member.AsDict(), f, ensure_ascii = False, sort_keys=True)\n",
    "            f.write('\\n')\n",
    "    print(\"Members(\" + user_group + \"): \" + str(len(list_members)))\n"
   ]
  },
  {
   "cell_type": "code",
   "execution_count": 127,
   "metadata": {},
   "outputs": [
    {
     "name": "stdout",
     "output_type": "stream",
     "text": [
      "ID                 | Screen Name\n",
      "983348251972816896 | SenHydeSmith\n",
      "941080085121175552 | SenDougJones\n",
      "941000686275387392 | SenTinaSmith\n",
      "816683274076614656 | SenJohnKennedy\n",
      "811313565760163844 | SenCortezMasto\n",
      "803694179079458816 | SenKamalaHarris\n",
      "2964174789         | SenThomTillis\n",
      "2955485182         | SenatorRounds\n",
      "2891210047         | SenDanSullivan\n",
      "2863210809         | sendavidperdue\n",
      "... (90 rows omitted)\n"
     ]
    }
   ],
   "source": [
    "stategov = Table.read_table(\"twittergov/us-senate.csv\")\n",
    "print(stategov)"
   ]
  },
  {
   "cell_type": "code",
   "execution_count": 137,
   "metadata": {},
   "outputs": [
    {
     "name": "stdout",
     "output_type": "stream",
     "text": [
      "SecPompeo\n",
      "SecAzar\n",
      "SecNielsen\n",
      "MickMulvaneyOMB\n",
      "USTradeRep\n",
      "SecretarySonny\n",
      "SecretaryRoss\n",
      "OMBPress\n",
      "EPAScottPruitt\n",
      "SecretaryPerry\n",
      "BetsyDeVosED\n",
      "SecretaryCarson\n",
      "SecretaryZinke\n",
      "SecElaineChao\n",
      "WhiteHouse\n",
      "SBALinda\n",
      "SecretaryAcosta\n",
      "Cabinet\n",
      "VP\n",
      "stevenmnuchin1\n",
      "CIA\n",
      "USDOT\n",
      "USUN\n",
      "ENERGY\n",
      "SBAgov\n",
      "USTreasury\n",
      "CommerceGov\n",
      "DeptVetAffairs\n",
      "Interior\n",
      "TheJusticeDept\n",
      "DeptofDefense\n",
      "USDA\n",
      "HHSGov\n",
      "nikkihaley\n",
      "usedgov\n",
      "USDOL\n",
      "HUDgov\n",
      "DHSgov\n",
      "EPA\n",
      "StateDept\n"
     ]
    }
   ],
   "source": [
    "import json\n",
    "import datetime\n",
    "import os\n",
    "\n",
    "# Stop at January 1, 2017\n",
    "jan2017 = datetime.datetime(2017,1,1).timestamp()\n",
    "\n",
    "\n",
    "screen_names = Table.read_table(\"twittergov/us-cabinet.csv\").column(\"Screen Name\")\n",
    "out_folder = \"twittergov/us-cabinet\"\n",
    "\n",
    "# Write each account to a file.\n",
    "for user_id in screen_names:\n",
    "    out_file= out_folder + \"/\" + str(user_id) + \".json\"\n",
    "    # Per twitter API, 200 per fetch, 3200 total\n",
    "    batch_size = 200\n",
    "    max_batches = 16\n",
    "    max_id = 0\n",
    "    print(user_id)\n",
    "    with open(out_file, \"w+\") as f:\n",
    "        for x in range(0, max_batches):\n",
    "            twit = api.GetUserTimeline(screen_name=user_id,count=batch_size,include_rts=False,max_id=max_id,trim_user=True)\n",
    "            # print(\"Results: \" + str(len(twit)))\n",
    "            if len(twit) == 0: break\n",
    "            for status in twit:\n",
    "                json.dump(status.AsDict(), f, ensure_ascii = False, sort_keys=True)\n",
    "                f.write('\\n')\n",
    "            last_twit = twit[-1]\n",
    "            if last_twit.created_at_in_seconds < jan2017: break\n",
    "            max_id = last_twit.id - 1"
   ]
  },
  {
   "cell_type": "code",
   "execution_count": null,
   "metadata": {},
   "outputs": [],
   "source": []
  },
  {
   "cell_type": "code",
   "execution_count": null,
   "metadata": {},
   "outputs": [],
   "source": []
  },
  {
   "cell_type": "code",
   "execution_count": null,
   "metadata": {},
   "outputs": [],
   "source": []
  }
 ],
 "metadata": {
  "kernelspec": {
   "display_name": "Python 3",
   "language": "python",
   "name": "python3"
  },
  "language_info": {
   "codemirror_mode": {
    "name": "ipython",
    "version": 3
   },
   "file_extension": ".py",
   "mimetype": "text/x-python",
   "name": "python",
   "nbconvert_exporter": "python",
   "pygments_lexer": "ipython3",
   "version": "3.5.2"
  }
 },
 "nbformat": 4,
 "nbformat_minor": 2
}
